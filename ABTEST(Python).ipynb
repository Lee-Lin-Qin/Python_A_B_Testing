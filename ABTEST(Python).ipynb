{
 "cells": [
  {
   "cell_type": "markdown",
   "metadata": {
    "toc": true
   },
   "source": [
    "<h1>Table of Contents<span class=\"tocSkip\"></span></h1>\n",
    "<div class=\"toc\"><ul class=\"toc-item\"><li><span><a href=\"#STEP1-Check-Data\" data-toc-modified-id=\"STEP1-Check-Data-1\"><span class=\"toc-item-num\">1&nbsp;&nbsp;</span>STEP1 Check Data</a></span><ul class=\"toc-item\"><li><span><a href=\"#1.Check-the-data,--understand-the-data-structure-and-how-the-busniess-is-conducted.\" data-toc-modified-id=\"1.Check-the-data,--understand-the-data-structure-and-how-the-busniess-is-conducted.-1.1\"><span class=\"toc-item-num\">1.1&nbsp;&nbsp;</span>1.Check the data,  understand the data structure and how the busniess is conducted.</a></span></li><li><span><a href=\"#2.--Check-if-NA/mixed-assignment/multiple-device-is-random\" data-toc-modified-id=\"2.--Check-if-NA/mixed-assignment/multiple-device-is-random-1.2\"><span class=\"toc-item-num\">1.2&nbsp;&nbsp;</span>2.  Check if NA/mixed assignment/multiple device is random</a></span></li><li><span><a href=\"#3-some-countries-and-device-has-significant-restulst.-Need-to-dive-in.\" data-toc-modified-id=\"3-some-countries-and-device-has-significant-restulst.-Need-to-dive-in.-1.3\"><span class=\"toc-item-num\">1.3&nbsp;&nbsp;</span>3 some countries and device has significant restulst. Need to dive in.</a></span></li></ul></li><li><span><a href=\"#4-blox-of-key-metrics,-views,-clicks,-ctr,-problem\" data-toc-modified-id=\"4-blox-of-key-metrics,-views,-clicks,-ctr,-problem-2\"><span class=\"toc-item-num\">2&nbsp;&nbsp;</span>4 blox of key metrics, views, clicks, ctr, problem</a></span></li><li><span><a href=\"#STEP-2--Before-Experiment.\" data-toc-modified-id=\"STEP-2--Before-Experiment.-3\"><span class=\"toc-item-num\">3&nbsp;&nbsp;</span>STEP 2  Before Experiment.</a></span><ul class=\"toc-item\"><li><span><a href=\"#5.-Split-data-into-before-experiment-&amp;-after-experiment\" data-toc-modified-id=\"5.-Split-data-into-before-experiment-&amp;-after-experiment-3.1\"><span class=\"toc-item-num\">3.1&nbsp;&nbsp;</span>5. Split data into before experiment &amp; after experiment</a></span></li></ul></li><li><span><a href=\"#Step-3-Experiment\" data-toc-modified-id=\"Step-3-Experiment-4\"><span class=\"toc-item-num\">4&nbsp;&nbsp;</span>Step 3 Experiment</a></span><ul class=\"toc-item\"><li><span><a href=\"#1.-Check-if-the-CTR-is-significant-between-control-&amp;-treatment-groups.-What's-your-results?--What-do-you-think-?\" data-toc-modified-id=\"1.-Check-if-the-CTR-is-significant-between-control-&amp;-treatment-groups.-What's-your-results?--What-do-you-think-?-4.1\"><span class=\"toc-item-num\">4.1&nbsp;&nbsp;</span>1. Check if the CTR is significant between control &amp; treatment groups. What's your results?  What do you think ?</a></span></li><li><span><a href=\"#2.-Break-it-down-by-device-and-check-again.--What-is-your-finding?-What-should-you-do-at-this-point?\" data-toc-modified-id=\"2.-Break-it-down-by-device-and-check-again.--What-is-your-finding?-What-should-you-do-at-this-point?-4.2\"><span class=\"toc-item-num\">4.2&nbsp;&nbsp;</span>2. Break it down by device and check again.  What is your finding? What should you do at this point?</a></span></li><li><span><a href=\"#3.-Check-reveune\" data-toc-modified-id=\"3.-Check-reveune-4.3\"><span class=\"toc-item-num\">4.3&nbsp;&nbsp;</span>3. Check reveune</a></span></li><li><span><a href=\"#4-Cohort-analysis\" data-toc-modified-id=\"4-Cohort-analysis-4.4\"><span class=\"toc-item-num\">4.4&nbsp;&nbsp;</span>4 Cohort analysis</a></span></li></ul></li></ul></div>"
   ]
  },
  {
   "cell_type": "markdown",
   "metadata": {},
   "source": [
    "This data shows user's activities on a online sales website.\n",
    "An experiment was launched on day 4 with a goal to increase users' click through rate\n",
    "(clicks/views) and total revenue.\n",
    "Note: first 3 days no experiment, 4th-14th days experiment running\n",
    "Analyze the data and write a report to answer the following questions:\n",
    "\n",
    "\n",
    "1. Is the experiment correct? Please note any problems in your report.\n",
    "2. Did the test version help increase CTR and total revenue? Help the team make\n",
    "the right decisions.\n",
    "3. There might be learning effect for users to get used to the change. Help the team\n",
    "understand this."
   ]
  },
  {
   "cell_type": "code",
   "execution_count": 3,
   "metadata": {
    "ExecuteTime": {
     "end_time": "2021-02-20T16:50:01.205697Z",
     "start_time": "2021-02-20T16:49:57.334511Z"
    }
   },
   "outputs": [],
   "source": [
    "import pandas as pd\n",
    "%matplotlib inline\n",
    "\n",
    "import numpy as np\n",
    "import statsmodels.api as sm\n",
    "from scipy import stats\n",
    "from matplotlib import pyplot as plt\n",
    "import datetime as dt\n",
    "import statsmodels.stats.proportion  as ssp"
   ]
  },
  {
   "cell_type": "code",
   "execution_count": 5,
   "metadata": {
    "ExecuteTime": {
     "end_time": "2021-02-20T16:50:23.615280Z",
     "start_time": "2021-02-20T16:50:23.532508Z"
    }
   },
   "outputs": [],
   "source": [
    "data=pd.read_csv('abtest_example_ctr.csv')"
   ]
  },
  {
   "cell_type": "code",
   "execution_count": 6,
   "metadata": {
    "ExecuteTime": {
     "end_time": "2021-02-20T16:50:26.107777Z",
     "start_time": "2021-02-20T16:50:26.103785Z"
    }
   },
   "outputs": [],
   "source": [
    "from __future__ import print_function"
   ]
  },
  {
   "cell_type": "markdown",
   "metadata": {},
   "source": [
    "## STEP1 Check Data"
   ]
  },
  {
   "cell_type": "markdown",
   "metadata": {},
   "source": [
    "### 1.Check the data,  understand the data structure and how the busniess is conducted."
   ]
  },
  {
   "cell_type": "markdown",
   "metadata": {},
   "source": [
    "**1.0 Check the data shape, variable type and Output first five rows of the dataset and check them**"
   ]
  },
  {
   "cell_type": "code",
   "execution_count": 7,
   "metadata": {
    "ExecuteTime": {
     "end_time": "2021-02-20T16:50:28.817529Z",
     "start_time": "2021-02-20T16:50:28.797582Z"
    }
   },
   "outputs": [
    {
     "data": {
      "text/plain": [
       "(22960, 11)"
      ]
     },
     "execution_count": 7,
     "metadata": {},
     "output_type": "execute_result"
    }
   ],
   "source": [
    "data.shape"
   ]
  },
  {
   "cell_type": "code",
   "execution_count": 8,
   "metadata": {
    "ExecuteTime": {
     "end_time": "2021-02-20T16:50:29.809886Z",
     "start_time": "2021-02-20T16:50:29.776975Z"
    }
   },
   "outputs": [
    {
     "name": "stdout",
     "output_type": "stream",
     "text": [
      "<class 'pandas.core.frame.DataFrame'>\n",
      "RangeIndex: 22960 entries, 0 to 22959\n",
      "Data columns (total 11 columns):\n",
      " #   Column    Non-Null Count  Dtype  \n",
      "---  ------    --------------  -----  \n",
      " 0   userid    22685 non-null  float64\n",
      " 1   country   22960 non-null  object \n",
      " 2   groups    22960 non-null  object \n",
      " 3   deviceid  22960 non-null  int64  \n",
      " 4   device    22960 non-null  object \n",
      " 5   sellerid  22960 non-null  int64  \n",
      " 6   itemid    22960 non-null  int64  \n",
      " 7   date      22960 non-null  object \n",
      " 8   views     22960 non-null  int64  \n",
      " 9   clicks    22960 non-null  int64  \n",
      " 10  revenue   22960 non-null  float64\n",
      "dtypes: float64(2), int64(5), object(4)\n",
      "memory usage: 1.9+ MB\n"
     ]
    }
   ],
   "source": [
    "data.info()"
   ]
  },
  {
   "cell_type": "code",
   "execution_count": 3,
   "metadata": {},
   "outputs": [
    {
     "data": {
      "text/html": [
       "<div>\n",
       "<style scoped>\n",
       "    .dataframe tbody tr th:only-of-type {\n",
       "        vertical-align: middle;\n",
       "    }\n",
       "\n",
       "    .dataframe tbody tr th {\n",
       "        vertical-align: top;\n",
       "    }\n",
       "\n",
       "    .dataframe thead th {\n",
       "        text-align: right;\n",
       "    }\n",
       "</style>\n",
       "<table border=\"1\" class=\"dataframe\">\n",
       "  <thead>\n",
       "    <tr style=\"text-align: right;\">\n",
       "      <th></th>\n",
       "      <th>userid</th>\n",
       "      <th>country</th>\n",
       "      <th>groups</th>\n",
       "      <th>deviceid</th>\n",
       "      <th>device</th>\n",
       "      <th>sellerid</th>\n",
       "      <th>itemid</th>\n",
       "      <th>date</th>\n",
       "      <th>views</th>\n",
       "      <th>clicks</th>\n",
       "      <th>revenue</th>\n",
       "    </tr>\n",
       "  </thead>\n",
       "  <tbody>\n",
       "    <tr>\n",
       "      <th>0</th>\n",
       "      <td>3441.0</td>\n",
       "      <td>US</td>\n",
       "      <td>control</td>\n",
       "      <td>12745</td>\n",
       "      <td>Ios</td>\n",
       "      <td>306</td>\n",
       "      <td>1685</td>\n",
       "      <td>2017-05-09</td>\n",
       "      <td>5</td>\n",
       "      <td>1</td>\n",
       "      <td>0.00000</td>\n",
       "    </tr>\n",
       "    <tr>\n",
       "      <th>1</th>\n",
       "      <td>3048.0</td>\n",
       "      <td>GB</td>\n",
       "      <td>control</td>\n",
       "      <td>19244</td>\n",
       "      <td>Android</td>\n",
       "      <td>227</td>\n",
       "      <td>2257</td>\n",
       "      <td>2017-05-09</td>\n",
       "      <td>3</td>\n",
       "      <td>1</td>\n",
       "      <td>0.00000</td>\n",
       "    </tr>\n",
       "    <tr>\n",
       "      <th>2</th>\n",
       "      <td>6640.0</td>\n",
       "      <td>CA</td>\n",
       "      <td>treatment</td>\n",
       "      <td>17198</td>\n",
       "      <td>Other</td>\n",
       "      <td>220</td>\n",
       "      <td>2977</td>\n",
       "      <td>2017-05-10</td>\n",
       "      <td>8</td>\n",
       "      <td>2</td>\n",
       "      <td>114.09041</td>\n",
       "    </tr>\n",
       "    <tr>\n",
       "      <th>3</th>\n",
       "      <td>4326.0</td>\n",
       "      <td>US</td>\n",
       "      <td>control</td>\n",
       "      <td>5329</td>\n",
       "      <td>Ios</td>\n",
       "      <td>431</td>\n",
       "      <td>1471</td>\n",
       "      <td>2017-05-12</td>\n",
       "      <td>4</td>\n",
       "      <td>0</td>\n",
       "      <td>0.00000</td>\n",
       "    </tr>\n",
       "    <tr>\n",
       "      <th>4</th>\n",
       "      <td>6993.0</td>\n",
       "      <td>US</td>\n",
       "      <td>control</td>\n",
       "      <td>15955</td>\n",
       "      <td>Web</td>\n",
       "      <td>399</td>\n",
       "      <td>1812</td>\n",
       "      <td>2017-05-08</td>\n",
       "      <td>4</td>\n",
       "      <td>2</td>\n",
       "      <td>0.00000</td>\n",
       "    </tr>\n",
       "  </tbody>\n",
       "</table>\n",
       "</div>"
      ],
      "text/plain": [
       "   userid country     groups  deviceid   device  sellerid  itemid        date  \\\n",
       "0  3441.0      US    control     12745      Ios       306    1685  2017-05-09   \n",
       "1  3048.0      GB    control     19244  Android       227    2257  2017-05-09   \n",
       "2  6640.0      CA  treatment     17198    Other       220    2977  2017-05-10   \n",
       "3  4326.0      US    control      5329      Ios       431    1471  2017-05-12   \n",
       "4  6993.0      US    control     15955      Web       399    1812  2017-05-08   \n",
       "\n",
       "   views  clicks    revenue  \n",
       "0      5       1    0.00000  \n",
       "1      3       1    0.00000  \n",
       "2      8       2  114.09041  \n",
       "3      4       0    0.00000  \n",
       "4      4       2    0.00000  "
      ]
     },
     "execution_count": 3,
     "metadata": {},
     "output_type": "execute_result"
    }
   ],
   "source": [
    "data.head()"
   ]
  },
  {
   "cell_type": "markdown",
   "metadata": {},
   "source": [
    "**1.1 Check how many data having missing userid. What's the percentage ?What's the problem of missing userid?**"
   ]
  },
  {
   "cell_type": "code",
   "execution_count": 10,
   "metadata": {
    "ExecuteTime": {
     "end_time": "2021-02-20T16:50:41.651012Z",
     "start_time": "2021-02-20T16:50:41.634057Z"
    }
   },
   "outputs": [
    {
     "data": {
      "text/plain": [
       "0.011977351916376307"
      ]
     },
     "execution_count": 10,
     "metadata": {},
     "output_type": "execute_result"
    }
   ],
   "source": [
    "data[data.userid.isnull()].shape[0]/data.shape[0]"
   ]
  },
  {
   "cell_type": "markdown",
   "metadata": {},
   "source": [
    "**1.2 Check if there are mix assignment.   How many users are mixed assgined ?  What is the problem of mixed assgiment ?**"
   ]
  },
  {
   "cell_type": "code",
   "execution_count": 9,
   "metadata": {
    "ExecuteTime": {
     "end_time": "2021-02-20T16:50:36.998865Z",
     "start_time": "2021-02-20T16:50:36.940019Z"
    }
   },
   "outputs": [
    {
     "data": {
      "text/html": [
       "<div>\n",
       "<style scoped>\n",
       "    .dataframe tbody tr th:only-of-type {\n",
       "        vertical-align: middle;\n",
       "    }\n",
       "\n",
       "    .dataframe tbody tr th {\n",
       "        vertical-align: top;\n",
       "    }\n",
       "\n",
       "    .dataframe thead th {\n",
       "        text-align: right;\n",
       "    }\n",
       "</style>\n",
       "<table border=\"1\" class=\"dataframe\">\n",
       "  <thead>\n",
       "    <tr style=\"text-align: right;\">\n",
       "      <th></th>\n",
       "      <th>userid</th>\n",
       "      <th>groups</th>\n",
       "    </tr>\n",
       "  </thead>\n",
       "  <tbody>\n",
       "    <tr>\n",
       "      <th>6987</th>\n",
       "      <td>9294.0</td>\n",
       "      <td>2</td>\n",
       "    </tr>\n",
       "    <tr>\n",
       "      <th>7133</th>\n",
       "      <td>9469.0</td>\n",
       "      <td>2</td>\n",
       "    </tr>\n",
       "    <tr>\n",
       "      <th>7281</th>\n",
       "      <td>9641.0</td>\n",
       "      <td>2</td>\n",
       "    </tr>\n",
       "    <tr>\n",
       "      <th>7492</th>\n",
       "      <td>9895.0</td>\n",
       "      <td>2</td>\n",
       "    </tr>\n",
       "    <tr>\n",
       "      <th>7542</th>\n",
       "      <td>9959.0</td>\n",
       "      <td>2</td>\n",
       "    </tr>\n",
       "  </tbody>\n",
       "</table>\n",
       "</div>"
      ],
      "text/plain": [
       "      userid  groups\n",
       "6987  9294.0       2\n",
       "7133  9469.0       2\n",
       "7281  9641.0       2\n",
       "7492  9895.0       2\n",
       "7542  9959.0       2"
      ]
     },
     "execution_count": 9,
     "metadata": {},
     "output_type": "execute_result"
    }
   ],
   "source": [
    "grp=pd.DataFrame(data.groupby('userid')['groups'].nunique())\n",
    "grp.reset_index(inplace=True)\n",
    "grp[grp.groups>1].tail()"
   ]
  },
  {
   "cell_type": "code",
   "execution_count": 11,
   "metadata": {
    "ExecuteTime": {
     "end_time": "2021-02-20T16:50:44.133274Z",
     "start_time": "2021-02-20T16:50:44.126294Z"
    }
   },
   "outputs": [
    {
     "name": "stdout",
     "output_type": "stream",
     "text": [
      "(43, 2)\n"
     ]
    }
   ],
   "source": [
    "print (grp[grp.groups>1].shape)"
   ]
  },
  {
   "cell_type": "code",
   "execution_count": 12,
   "metadata": {
    "ExecuteTime": {
     "end_time": "2021-02-20T16:50:45.988318Z",
     "start_time": "2021-02-20T16:50:45.966376Z"
    }
   },
   "outputs": [],
   "source": [
    "mix_id=grp[grp.groups>1].userid"
   ]
  },
  {
   "cell_type": "code",
   "execution_count": 13,
   "metadata": {
    "ExecuteTime": {
     "end_time": "2021-02-20T16:50:46.900545Z",
     "start_time": "2021-02-20T16:50:46.858659Z"
    }
   },
   "outputs": [
    {
     "data": {
      "text/html": [
       "<div>\n",
       "<style scoped>\n",
       "    .dataframe tbody tr th:only-of-type {\n",
       "        vertical-align: middle;\n",
       "    }\n",
       "\n",
       "    .dataframe tbody tr th {\n",
       "        vertical-align: top;\n",
       "    }\n",
       "\n",
       "    .dataframe thead th {\n",
       "        text-align: right;\n",
       "    }\n",
       "</style>\n",
       "<table border=\"1\" class=\"dataframe\">\n",
       "  <thead>\n",
       "    <tr style=\"text-align: right;\">\n",
       "      <th></th>\n",
       "      <th>userid</th>\n",
       "      <th>country</th>\n",
       "      <th>groups</th>\n",
       "      <th>deviceid</th>\n",
       "      <th>device</th>\n",
       "      <th>sellerid</th>\n",
       "      <th>itemid</th>\n",
       "      <th>date</th>\n",
       "      <th>views</th>\n",
       "      <th>clicks</th>\n",
       "      <th>revenue</th>\n",
       "    </tr>\n",
       "  </thead>\n",
       "  <tbody>\n",
       "    <tr>\n",
       "      <th>31</th>\n",
       "      <td>9641.0</td>\n",
       "      <td>US</td>\n",
       "      <td>control</td>\n",
       "      <td>19866</td>\n",
       "      <td>Android</td>\n",
       "      <td>422</td>\n",
       "      <td>1150</td>\n",
       "      <td>2017-05-10</td>\n",
       "      <td>8</td>\n",
       "      <td>1</td>\n",
       "      <td>0.0</td>\n",
       "    </tr>\n",
       "    <tr>\n",
       "      <th>9914</th>\n",
       "      <td>9641.0</td>\n",
       "      <td>US</td>\n",
       "      <td>treatment</td>\n",
       "      <td>19866</td>\n",
       "      <td>Android</td>\n",
       "      <td>422</td>\n",
       "      <td>1150</td>\n",
       "      <td>2017-05-09</td>\n",
       "      <td>5</td>\n",
       "      <td>1</td>\n",
       "      <td>0.0</td>\n",
       "    </tr>\n",
       "    <tr>\n",
       "      <th>10707</th>\n",
       "      <td>9641.0</td>\n",
       "      <td>US</td>\n",
       "      <td>treatment</td>\n",
       "      <td>19866</td>\n",
       "      <td>Android</td>\n",
       "      <td>422</td>\n",
       "      <td>1150</td>\n",
       "      <td>2017-05-11</td>\n",
       "      <td>6</td>\n",
       "      <td>2</td>\n",
       "      <td>0.0</td>\n",
       "    </tr>\n",
       "  </tbody>\n",
       "</table>\n",
       "</div>"
      ],
      "text/plain": [
       "       userid country     groups  deviceid   device  sellerid  itemid  \\\n",
       "31     9641.0      US    control     19866  Android       422    1150   \n",
       "9914   9641.0      US  treatment     19866  Android       422    1150   \n",
       "10707  9641.0      US  treatment     19866  Android       422    1150   \n",
       "\n",
       "             date  views  clicks  revenue  \n",
       "31     2017-05-10      8       1      0.0  \n",
       "9914   2017-05-09      5       1      0.0  \n",
       "10707  2017-05-11      6       2      0.0  "
      ]
     },
     "execution_count": 13,
     "metadata": {},
     "output_type": "execute_result"
    }
   ],
   "source": [
    "data[data.userid==9641]"
   ]
  },
  {
   "cell_type": "markdown",
   "metadata": {},
   "source": [
    "**1.3 check if there are multiple devices per user, multiple users per device. How many of them ?  What's the problem of each ?**"
   ]
  },
  {
   "cell_type": "code",
   "execution_count": 14,
   "metadata": {
    "ExecuteTime": {
     "end_time": "2021-02-20T16:50:49.054633Z",
     "start_time": "2021-02-20T16:50:49.014741Z"
    },
    "scrolled": true
   },
   "outputs": [
    {
     "name": "stdout",
     "output_type": "stream",
     "text": [
      "(175, 1)\n",
      "        deviceid\n",
      "userid          \n",
      "1020.0         2\n",
      "1040.0         2\n",
      "1077.0         2\n",
      "1105.0         2\n",
      "1268.0         2\n"
     ]
    }
   ],
   "source": [
    "def check_multip( var, byvar):\n",
    "    grp=pd.DataFrame(data.groupby(byvar)[var].nunique())\n",
    "    print (grp[grp[var]>1].shape)\n",
    "    print (grp[grp[var]>1].head())\n",
    "    grp.reset_index(inplace=True)\n",
    "    return grp\n",
    "    \n",
    "grp=check_multip( 'deviceid', 'userid')\n"
   ]
  },
  {
   "cell_type": "code",
   "execution_count": 15,
   "metadata": {
    "ExecuteTime": {
     "end_time": "2021-02-20T16:50:50.664008Z",
     "start_time": "2021-02-20T16:50:50.639074Z"
    }
   },
   "outputs": [],
   "source": [
    "muldev_id=grp[grp.deviceid>1].userid"
   ]
  },
  {
   "cell_type": "code",
   "execution_count": 16,
   "metadata": {
    "ExecuteTime": {
     "end_time": "2021-02-20T16:50:51.910624Z",
     "start_time": "2021-02-20T16:50:51.875719Z"
    }
   },
   "outputs": [
    {
     "data": {
      "text/html": [
       "<div>\n",
       "<style scoped>\n",
       "    .dataframe tbody tr th:only-of-type {\n",
       "        vertical-align: middle;\n",
       "    }\n",
       "\n",
       "    .dataframe tbody tr th {\n",
       "        vertical-align: top;\n",
       "    }\n",
       "\n",
       "    .dataframe thead th {\n",
       "        text-align: right;\n",
       "    }\n",
       "</style>\n",
       "<table border=\"1\" class=\"dataframe\">\n",
       "  <thead>\n",
       "    <tr style=\"text-align: right;\">\n",
       "      <th></th>\n",
       "      <th>userid</th>\n",
       "      <th>country</th>\n",
       "      <th>groups</th>\n",
       "      <th>deviceid</th>\n",
       "      <th>device</th>\n",
       "      <th>sellerid</th>\n",
       "      <th>itemid</th>\n",
       "      <th>date</th>\n",
       "      <th>views</th>\n",
       "      <th>clicks</th>\n",
       "      <th>revenue</th>\n",
       "    </tr>\n",
       "  </thead>\n",
       "  <tbody>\n",
       "    <tr>\n",
       "      <th>5131</th>\n",
       "      <td>1020.0</td>\n",
       "      <td>US</td>\n",
       "      <td>control</td>\n",
       "      <td>12103</td>\n",
       "      <td>Android</td>\n",
       "      <td>195</td>\n",
       "      <td>2478</td>\n",
       "      <td>2017-05-13</td>\n",
       "      <td>10</td>\n",
       "      <td>2</td>\n",
       "      <td>0.00000</td>\n",
       "    </tr>\n",
       "    <tr>\n",
       "      <th>7161</th>\n",
       "      <td>1020.0</td>\n",
       "      <td>US</td>\n",
       "      <td>control</td>\n",
       "      <td>12919</td>\n",
       "      <td>Web</td>\n",
       "      <td>320</td>\n",
       "      <td>2958</td>\n",
       "      <td>2017-05-13</td>\n",
       "      <td>7</td>\n",
       "      <td>1</td>\n",
       "      <td>0.00000</td>\n",
       "    </tr>\n",
       "    <tr>\n",
       "      <th>9383</th>\n",
       "      <td>1020.0</td>\n",
       "      <td>US</td>\n",
       "      <td>control</td>\n",
       "      <td>12103</td>\n",
       "      <td>Android</td>\n",
       "      <td>195</td>\n",
       "      <td>2478</td>\n",
       "      <td>2017-05-14</td>\n",
       "      <td>6</td>\n",
       "      <td>2</td>\n",
       "      <td>97.40777</td>\n",
       "    </tr>\n",
       "    <tr>\n",
       "      <th>16421</th>\n",
       "      <td>1020.0</td>\n",
       "      <td>US</td>\n",
       "      <td>control</td>\n",
       "      <td>12919</td>\n",
       "      <td>Web</td>\n",
       "      <td>320</td>\n",
       "      <td>2958</td>\n",
       "      <td>2017-05-18</td>\n",
       "      <td>11</td>\n",
       "      <td>0</td>\n",
       "      <td>0.00000</td>\n",
       "    </tr>\n",
       "    <tr>\n",
       "      <th>17881</th>\n",
       "      <td>1020.0</td>\n",
       "      <td>US</td>\n",
       "      <td>control</td>\n",
       "      <td>12919</td>\n",
       "      <td>Web</td>\n",
       "      <td>320</td>\n",
       "      <td>2958</td>\n",
       "      <td>2017-05-15</td>\n",
       "      <td>6</td>\n",
       "      <td>1</td>\n",
       "      <td>0.00000</td>\n",
       "    </tr>\n",
       "    <tr>\n",
       "      <th>18918</th>\n",
       "      <td>1020.0</td>\n",
       "      <td>US</td>\n",
       "      <td>control</td>\n",
       "      <td>12919</td>\n",
       "      <td>Web</td>\n",
       "      <td>320</td>\n",
       "      <td>2958</td>\n",
       "      <td>2017-05-17</td>\n",
       "      <td>6</td>\n",
       "      <td>2</td>\n",
       "      <td>0.00000</td>\n",
       "    </tr>\n",
       "    <tr>\n",
       "      <th>21933</th>\n",
       "      <td>1020.0</td>\n",
       "      <td>US</td>\n",
       "      <td>control</td>\n",
       "      <td>12103</td>\n",
       "      <td>Android</td>\n",
       "      <td>195</td>\n",
       "      <td>2478</td>\n",
       "      <td>2017-05-21</td>\n",
       "      <td>4</td>\n",
       "      <td>1</td>\n",
       "      <td>0.00000</td>\n",
       "    </tr>\n",
       "  </tbody>\n",
       "</table>\n",
       "</div>"
      ],
      "text/plain": [
       "       userid country   groups  deviceid   device  sellerid  itemid  \\\n",
       "5131   1020.0      US  control     12103  Android       195    2478   \n",
       "7161   1020.0      US  control     12919      Web       320    2958   \n",
       "9383   1020.0      US  control     12103  Android       195    2478   \n",
       "16421  1020.0      US  control     12919      Web       320    2958   \n",
       "17881  1020.0      US  control     12919      Web       320    2958   \n",
       "18918  1020.0      US  control     12919      Web       320    2958   \n",
       "21933  1020.0      US  control     12103  Android       195    2478   \n",
       "\n",
       "             date  views  clicks   revenue  \n",
       "5131   2017-05-13     10       2   0.00000  \n",
       "7161   2017-05-13      7       1   0.00000  \n",
       "9383   2017-05-14      6       2  97.40777  \n",
       "16421  2017-05-18     11       0   0.00000  \n",
       "17881  2017-05-15      6       1   0.00000  \n",
       "18918  2017-05-17      6       2   0.00000  \n",
       "21933  2017-05-21      4       1   0.00000  "
      ]
     },
     "execution_count": 16,
     "metadata": {},
     "output_type": "execute_result"
    }
   ],
   "source": [
    "data[data.userid==1020]"
   ]
  },
  {
   "cell_type": "code",
   "execution_count": 17,
   "metadata": {
    "ExecuteTime": {
     "end_time": "2021-02-20T16:50:52.970245Z",
     "start_time": "2021-02-20T16:50:52.940325Z"
    }
   },
   "outputs": [
    {
     "name": "stdout",
     "output_type": "stream",
     "text": [
      "(141, 1)\n",
      "          userid\n",
      "deviceid        \n",
      "5019           2\n",
      "5031           2\n",
      "5195           2\n",
      "5244           2\n",
      "5268           2\n"
     ]
    }
   ],
   "source": [
    "def check_multip( var, byvar):\n",
    "    grp=pd.DataFrame(data.groupby(byvar)[var].nunique())\n",
    "    print (grp[grp[var]>1].shape)\n",
    "    print (grp[grp[var]>1].head())\n",
    "    grp.reset_index(inplace=True)\n",
    "    return grp\n",
    "    \n",
    "grp=check_multip( 'userid',  'deviceid')\n"
   ]
  },
  {
   "cell_type": "code",
   "execution_count": 18,
   "metadata": {
    "ExecuteTime": {
     "end_time": "2021-02-20T16:50:54.264869Z",
     "start_time": "2021-02-20T16:50:54.238938Z"
    }
   },
   "outputs": [
    {
     "data": {
      "text/html": [
       "<div>\n",
       "<style scoped>\n",
       "    .dataframe tbody tr th:only-of-type {\n",
       "        vertical-align: middle;\n",
       "    }\n",
       "\n",
       "    .dataframe tbody tr th {\n",
       "        vertical-align: top;\n",
       "    }\n",
       "\n",
       "    .dataframe thead th {\n",
       "        text-align: right;\n",
       "    }\n",
       "</style>\n",
       "<table border=\"1\" class=\"dataframe\">\n",
       "  <thead>\n",
       "    <tr style=\"text-align: right;\">\n",
       "      <th></th>\n",
       "      <th>deviceid</th>\n",
       "      <th>userid</th>\n",
       "    </tr>\n",
       "  </thead>\n",
       "  <tbody>\n",
       "    <tr>\n",
       "      <th>8</th>\n",
       "      <td>5019</td>\n",
       "      <td>2</td>\n",
       "    </tr>\n",
       "    <tr>\n",
       "      <th>13</th>\n",
       "      <td>5031</td>\n",
       "      <td>2</td>\n",
       "    </tr>\n",
       "    <tr>\n",
       "      <th>96</th>\n",
       "      <td>5195</td>\n",
       "      <td>2</td>\n",
       "    </tr>\n",
       "  </tbody>\n",
       "</table>\n",
       "</div>"
      ],
      "text/plain": [
       "    deviceid  userid\n",
       "8       5019       2\n",
       "13      5031       2\n",
       "96      5195       2"
      ]
     },
     "execution_count": 18,
     "metadata": {},
     "output_type": "execute_result"
    }
   ],
   "source": [
    "grp[grp['userid']>1].head(3)"
   ]
  },
  {
   "cell_type": "code",
   "execution_count": 19,
   "metadata": {
    "ExecuteTime": {
     "end_time": "2021-02-20T16:50:55.601056Z",
     "start_time": "2021-02-20T16:50:55.588088Z"
    }
   },
   "outputs": [],
   "source": [
    "#data[data.deviceid==6853]  Check 6853"
   ]
  },
  {
   "cell_type": "code",
   "execution_count": 20,
   "metadata": {
    "ExecuteTime": {
     "end_time": "2021-02-20T16:50:58.686143Z",
     "start_time": "2021-02-20T16:50:58.673179Z"
    }
   },
   "outputs": [],
   "source": [
    "muluser_id=grp[grp.userid>1].deviceid"
   ]
  },
  {
   "cell_type": "code",
   "execution_count": 21,
   "metadata": {
    "ExecuteTime": {
     "end_time": "2021-02-20T16:50:59.711908Z",
     "start_time": "2021-02-20T16:50:59.687977Z"
    }
   },
   "outputs": [
    {
     "data": {
      "text/html": [
       "<div>\n",
       "<style scoped>\n",
       "    .dataframe tbody tr th:only-of-type {\n",
       "        vertical-align: middle;\n",
       "    }\n",
       "\n",
       "    .dataframe tbody tr th {\n",
       "        vertical-align: top;\n",
       "    }\n",
       "\n",
       "    .dataframe thead th {\n",
       "        text-align: right;\n",
       "    }\n",
       "</style>\n",
       "<table border=\"1\" class=\"dataframe\">\n",
       "  <thead>\n",
       "    <tr style=\"text-align: right;\">\n",
       "      <th></th>\n",
       "      <th>userid</th>\n",
       "      <th>country</th>\n",
       "      <th>groups</th>\n",
       "      <th>deviceid</th>\n",
       "      <th>device</th>\n",
       "      <th>sellerid</th>\n",
       "      <th>itemid</th>\n",
       "      <th>date</th>\n",
       "      <th>views</th>\n",
       "      <th>clicks</th>\n",
       "      <th>revenue</th>\n",
       "    </tr>\n",
       "  </thead>\n",
       "  <tbody>\n",
       "    <tr>\n",
       "      <th>12709</th>\n",
       "      <td>5254.0</td>\n",
       "      <td>US</td>\n",
       "      <td>treatment</td>\n",
       "      <td>5019</td>\n",
       "      <td>Web</td>\n",
       "      <td>445</td>\n",
       "      <td>2060</td>\n",
       "      <td>2017-05-13</td>\n",
       "      <td>9</td>\n",
       "      <td>3</td>\n",
       "      <td>0.0</td>\n",
       "    </tr>\n",
       "    <tr>\n",
       "      <th>18767</th>\n",
       "      <td>1040.0</td>\n",
       "      <td>CN</td>\n",
       "      <td>treatment</td>\n",
       "      <td>5019</td>\n",
       "      <td>Web</td>\n",
       "      <td>388</td>\n",
       "      <td>2885</td>\n",
       "      <td>2017-05-13</td>\n",
       "      <td>3</td>\n",
       "      <td>0</td>\n",
       "      <td>0.0</td>\n",
       "    </tr>\n",
       "  </tbody>\n",
       "</table>\n",
       "</div>"
      ],
      "text/plain": [
       "       userid country     groups  deviceid device  sellerid  itemid  \\\n",
       "12709  5254.0      US  treatment      5019    Web       445    2060   \n",
       "18767  1040.0      CN  treatment      5019    Web       388    2885   \n",
       "\n",
       "             date  views  clicks  revenue  \n",
       "12709  2017-05-13      9       3      0.0  \n",
       "18767  2017-05-13      3       0      0.0  "
      ]
     },
     "execution_count": 21,
     "metadata": {},
     "output_type": "execute_result"
    }
   ],
   "source": [
    "data[data.deviceid==5019]"
   ]
  },
  {
   "cell_type": "markdown",
   "metadata": {},
   "source": [
    "### 2.  Check if NA/mixed assignment/multiple device is random"
   ]
  },
  {
   "cell_type": "markdown",
   "metadata": {},
   "source": [
    "**2.1 Create a indicator to show if those this userid have any problems**\n",
    "\n",
    "  To simply the question, create one indicator for records with any of above problems. (Missing ID, mix assignment,     multiple user/per device, multiple device/user).  In real projects , you should do each one seperately because they   may have different causes."
   ]
  },
  {
   "cell_type": "code",
   "execution_count": 22,
   "metadata": {
    "ExecuteTime": {
     "end_time": "2021-02-20T16:51:04.029763Z",
     "start_time": "2021-02-20T16:51:03.998848Z"
    }
   },
   "outputs": [
    {
     "data": {
      "text/html": [
       "<div>\n",
       "<style scoped>\n",
       "    .dataframe tbody tr th:only-of-type {\n",
       "        vertical-align: middle;\n",
       "    }\n",
       "\n",
       "    .dataframe tbody tr th {\n",
       "        vertical-align: top;\n",
       "    }\n",
       "\n",
       "    .dataframe thead th {\n",
       "        text-align: right;\n",
       "    }\n",
       "</style>\n",
       "<table border=\"1\" class=\"dataframe\">\n",
       "  <thead>\n",
       "    <tr style=\"text-align: right;\">\n",
       "      <th></th>\n",
       "      <th>userid</th>\n",
       "      <th>country</th>\n",
       "      <th>groups</th>\n",
       "      <th>deviceid</th>\n",
       "      <th>device</th>\n",
       "      <th>sellerid</th>\n",
       "      <th>itemid</th>\n",
       "      <th>date</th>\n",
       "      <th>views</th>\n",
       "      <th>clicks</th>\n",
       "      <th>revenue</th>\n",
       "    </tr>\n",
       "  </thead>\n",
       "  <tbody>\n",
       "    <tr>\n",
       "      <th>0</th>\n",
       "      <td>3441.0</td>\n",
       "      <td>US</td>\n",
       "      <td>control</td>\n",
       "      <td>12745</td>\n",
       "      <td>Ios</td>\n",
       "      <td>306</td>\n",
       "      <td>1685</td>\n",
       "      <td>2017-05-09</td>\n",
       "      <td>5</td>\n",
       "      <td>1</td>\n",
       "      <td>0.0</td>\n",
       "    </tr>\n",
       "    <tr>\n",
       "      <th>1</th>\n",
       "      <td>3048.0</td>\n",
       "      <td>GB</td>\n",
       "      <td>control</td>\n",
       "      <td>19244</td>\n",
       "      <td>Android</td>\n",
       "      <td>227</td>\n",
       "      <td>2257</td>\n",
       "      <td>2017-05-09</td>\n",
       "      <td>3</td>\n",
       "      <td>1</td>\n",
       "      <td>0.0</td>\n",
       "    </tr>\n",
       "  </tbody>\n",
       "</table>\n",
       "</div>"
      ],
      "text/plain": [
       "   userid country   groups  deviceid   device  sellerid  itemid        date  \\\n",
       "0  3441.0      US  control     12745      Ios       306    1685  2017-05-09   \n",
       "1  3048.0      GB  control     19244  Android       227    2257  2017-05-09   \n",
       "\n",
       "   views  clicks  revenue  \n",
       "0      5       1      0.0  \n",
       "1      3       1      0.0  "
      ]
     },
     "execution_count": 22,
     "metadata": {},
     "output_type": "execute_result"
    }
   ],
   "source": [
    "data.head(2)"
   ]
  },
  {
   "cell_type": "code",
   "execution_count": 23,
   "metadata": {
    "ExecuteTime": {
     "end_time": "2021-02-20T16:51:06.807665Z",
     "start_time": "2021-02-20T16:51:06.768810Z"
    }
   },
   "outputs": [
    {
     "name": "stderr",
     "output_type": "stream",
     "text": [
      "C:\\Users\\lqin1\\anaconda3\\lib\\site-packages\\pandas\\core\\ops\\array_ops.py:253: FutureWarning: elementwise comparison failed; returning scalar instead, but in the future will perform elementwise comparison\n",
      "  res_values = method(rvalues)\n"
     ]
    }
   ],
   "source": [
    "data['mix_flag']=np.where(data.userid.isin(mix_id),1, 0)\n",
    "data['missing_flag']=np.where(data.userid==\"Na\",1, 0)\n",
    "data['muldev_flag']=np.where(data.userid.isin(muldev_id),1, 0)\n",
    "data['muluser_flag']=np.where(data.deviceid.isin(muluser_id),1, 0)"
   ]
  },
  {
   "cell_type": "code",
   "execution_count": 24,
   "metadata": {
    "ExecuteTime": {
     "end_time": "2021-02-20T16:51:09.346380Z",
     "start_time": "2021-02-20T16:51:09.322411Z"
    }
   },
   "outputs": [],
   "source": [
    "data['id_check']=np.where(data.userid.isin(mix_id) | data.userid.isin(muldev_id) | data.deviceid.isin(muluser_id) | data.userid.isnull(), 1, 0)"
   ]
  },
  {
   "cell_type": "code",
   "execution_count": 25,
   "metadata": {
    "ExecuteTime": {
     "end_time": "2021-02-20T16:51:10.218017Z",
     "start_time": "2021-02-20T16:51:10.184109Z"
    }
   },
   "outputs": [
    {
     "data": {
      "text/plain": [
       "(1571, 16)"
      ]
     },
     "execution_count": 25,
     "metadata": {},
     "output_type": "execute_result"
    }
   ],
   "source": [
    "data[data.id_check==1 ].shape"
   ]
  },
  {
   "cell_type": "markdown",
   "metadata": {},
   "source": [
    "**2.2 Create a model to check if any covariates have strong correlation with problematic issues.**"
   ]
  },
  {
   "cell_type": "code",
   "execution_count": 26,
   "metadata": {
    "ExecuteTime": {
     "end_time": "2021-02-20T16:52:22.572046Z",
     "start_time": "2021-02-20T16:52:22.536106Z"
    }
   },
   "outputs": [
    {
     "data": {
      "text/html": [
       "<div>\n",
       "<style scoped>\n",
       "    .dataframe tbody tr th:only-of-type {\n",
       "        vertical-align: middle;\n",
       "    }\n",
       "\n",
       "    .dataframe tbody tr th {\n",
       "        vertical-align: top;\n",
       "    }\n",
       "\n",
       "    .dataframe thead th {\n",
       "        text-align: right;\n",
       "    }\n",
       "</style>\n",
       "<table border=\"1\" class=\"dataframe\">\n",
       "  <thead>\n",
       "    <tr style=\"text-align: right;\">\n",
       "      <th></th>\n",
       "      <th>userid</th>\n",
       "      <th>country</th>\n",
       "      <th>groups</th>\n",
       "      <th>deviceid</th>\n",
       "      <th>device</th>\n",
       "      <th>sellerid</th>\n",
       "      <th>itemid</th>\n",
       "      <th>date</th>\n",
       "      <th>views</th>\n",
       "      <th>clicks</th>\n",
       "      <th>revenue</th>\n",
       "      <th>mix_flag</th>\n",
       "      <th>missing_flag</th>\n",
       "      <th>muldev_flag</th>\n",
       "      <th>muluser_flag</th>\n",
       "      <th>id_check</th>\n",
       "    </tr>\n",
       "  </thead>\n",
       "  <tbody>\n",
       "    <tr>\n",
       "      <th>0</th>\n",
       "      <td>3441.0</td>\n",
       "      <td>US</td>\n",
       "      <td>control</td>\n",
       "      <td>12745</td>\n",
       "      <td>Ios</td>\n",
       "      <td>306</td>\n",
       "      <td>1685</td>\n",
       "      <td>2017-05-09</td>\n",
       "      <td>5</td>\n",
       "      <td>1</td>\n",
       "      <td>0.00000</td>\n",
       "      <td>0</td>\n",
       "      <td>0</td>\n",
       "      <td>0</td>\n",
       "      <td>0</td>\n",
       "      <td>0</td>\n",
       "    </tr>\n",
       "    <tr>\n",
       "      <th>1</th>\n",
       "      <td>3048.0</td>\n",
       "      <td>GB</td>\n",
       "      <td>control</td>\n",
       "      <td>19244</td>\n",
       "      <td>Android</td>\n",
       "      <td>227</td>\n",
       "      <td>2257</td>\n",
       "      <td>2017-05-09</td>\n",
       "      <td>3</td>\n",
       "      <td>1</td>\n",
       "      <td>0.00000</td>\n",
       "      <td>0</td>\n",
       "      <td>0</td>\n",
       "      <td>0</td>\n",
       "      <td>0</td>\n",
       "      <td>0</td>\n",
       "    </tr>\n",
       "    <tr>\n",
       "      <th>2</th>\n",
       "      <td>6640.0</td>\n",
       "      <td>CA</td>\n",
       "      <td>treatment</td>\n",
       "      <td>17198</td>\n",
       "      <td>Other</td>\n",
       "      <td>220</td>\n",
       "      <td>2977</td>\n",
       "      <td>2017-05-10</td>\n",
       "      <td>8</td>\n",
       "      <td>2</td>\n",
       "      <td>114.09041</td>\n",
       "      <td>0</td>\n",
       "      <td>0</td>\n",
       "      <td>0</td>\n",
       "      <td>0</td>\n",
       "      <td>0</td>\n",
       "    </tr>\n",
       "    <tr>\n",
       "      <th>3</th>\n",
       "      <td>4326.0</td>\n",
       "      <td>US</td>\n",
       "      <td>control</td>\n",
       "      <td>5329</td>\n",
       "      <td>Ios</td>\n",
       "      <td>431</td>\n",
       "      <td>1471</td>\n",
       "      <td>2017-05-12</td>\n",
       "      <td>4</td>\n",
       "      <td>0</td>\n",
       "      <td>0.00000</td>\n",
       "      <td>0</td>\n",
       "      <td>0</td>\n",
       "      <td>0</td>\n",
       "      <td>0</td>\n",
       "      <td>0</td>\n",
       "    </tr>\n",
       "    <tr>\n",
       "      <th>4</th>\n",
       "      <td>6993.0</td>\n",
       "      <td>US</td>\n",
       "      <td>control</td>\n",
       "      <td>15955</td>\n",
       "      <td>Web</td>\n",
       "      <td>399</td>\n",
       "      <td>1812</td>\n",
       "      <td>2017-05-08</td>\n",
       "      <td>4</td>\n",
       "      <td>2</td>\n",
       "      <td>0.00000</td>\n",
       "      <td>0</td>\n",
       "      <td>0</td>\n",
       "      <td>0</td>\n",
       "      <td>0</td>\n",
       "      <td>0</td>\n",
       "    </tr>\n",
       "  </tbody>\n",
       "</table>\n",
       "</div>"
      ],
      "text/plain": [
       "   userid country     groups  deviceid   device  sellerid  itemid        date  \\\n",
       "0  3441.0      US    control     12745      Ios       306    1685  2017-05-09   \n",
       "1  3048.0      GB    control     19244  Android       227    2257  2017-05-09   \n",
       "2  6640.0      CA  treatment     17198    Other       220    2977  2017-05-10   \n",
       "3  4326.0      US    control      5329      Ios       431    1471  2017-05-12   \n",
       "4  6993.0      US    control     15955      Web       399    1812  2017-05-08   \n",
       "\n",
       "   views  clicks    revenue  mix_flag  missing_flag  muldev_flag  \\\n",
       "0      5       1    0.00000         0             0            0   \n",
       "1      3       1    0.00000         0             0            0   \n",
       "2      8       2  114.09041         0             0            0   \n",
       "3      4       0    0.00000         0             0            0   \n",
       "4      4       2    0.00000         0             0            0   \n",
       "\n",
       "   muluser_flag  id_check  \n",
       "0             0         0  \n",
       "1             0         0  \n",
       "2             0         0  \n",
       "3             0         0  \n",
       "4             0         0  "
      ]
     },
     "execution_count": 26,
     "metadata": {},
     "output_type": "execute_result"
    }
   ],
   "source": [
    "data.head()"
   ]
  },
  {
   "cell_type": "markdown",
   "metadata": {},
   "source": [
    "**2.2.1 Fit the GLM model from SM package and check the results.What is your finding?**. \n",
    "\n",
    "  Tips: You can use statsmodels package. But feel free to use any package you're used to.\n",
    "  \n",
    "  import statsmodels.api as sm\n",
    "  \n",
    "  glm_binom = sm.formula.glm(\"y ~ X1, X2...Xn\", data=data, family=sm.families.Binomial())\n",
    "  res=glm_binom.fit()\n",
    "  print (res) "
   ]
  },
  {
   "cell_type": "code",
   "execution_count": 336,
   "metadata": {},
   "outputs": [
    {
     "name": "stdout",
     "output_type": "stream",
     "text": [
      "                 Generalized Linear Model Regression Results                  \n",
      "==============================================================================\n",
      "Dep. Variable:               id_check   No. Observations:                22960\n",
      "Model:                            GLM   Df Residuals:                    22936\n",
      "Model Family:                Binomial   Df Model:                           23\n",
      "Link Function:                  logit   Scale:                             1.0\n",
      "Method:                          IRLS   Log-Likelihood:                -6369.7\n",
      "Date:                Sun, 10 Mar 2019   Deviance:                       12739.\n",
      "Time:                        16:24:12   Pearson chi2:                 2.30e+04\n",
      "No. Iterations:                     5                                         \n",
      "=======================================================================================\n",
      "                          coef    std err          z      P>|z|      [0.025      0.975]\n",
      "---------------------------------------------------------------------------------------\n",
      "Intercept              -2.4321      0.130    -18.764      0.000      -2.686      -2.178\n",
      "country[T.CN]          -0.1284      0.076     -1.679      0.093      -0.278       0.021\n",
      "country[T.GB]          -0.1503      0.077     -1.961      0.050      -0.300      -0.000\n",
      "country[T.US]          -0.0933      0.065     -1.431      0.152      -0.221       0.034\n",
      "groups[T.treatment]    -0.0352      0.049     -0.721      0.471      -0.131       0.061\n",
      "device[T.Ios]           0.1289      0.071      1.821      0.069      -0.010       0.268\n",
      "device[T.Other]         0.1722      0.069      2.480      0.013       0.036       0.308\n",
      "device[T.Web]           0.1041      0.064      1.615      0.106      -0.022       0.230\n",
      "date[T.2017-05-09]     -0.0946      0.134     -0.704      0.481      -0.358       0.169\n",
      "date[T.2017-05-10]     -0.0285      0.133     -0.214      0.831      -0.289       0.232\n",
      "date[T.2017-05-11]      0.0296      0.131      0.225      0.822      -0.228       0.287\n",
      "date[T.2017-05-12]      0.0988      0.129      0.764      0.445      -0.155       0.352\n",
      "date[T.2017-05-13]      0.0349      0.130      0.268      0.789      -0.220       0.290\n",
      "date[T.2017-05-14]      0.2127      0.127      1.669      0.095      -0.037       0.462\n",
      "date[T.2017-05-15]     -0.0965      0.134     -0.721      0.471      -0.359       0.166\n",
      "date[T.2017-05-16]      0.0009      0.130      0.007      0.995      -0.255       0.257\n",
      "date[T.2017-05-17]      0.0464      0.130      0.356      0.722      -0.209       0.302\n",
      "date[T.2017-05-18]     -0.0069      0.133     -0.052      0.958      -0.267       0.253\n",
      "date[T.2017-05-19]      0.0479      0.131      0.365      0.715      -0.209       0.305\n",
      "date[T.2017-05-20]      0.0451      0.131      0.344      0.731      -0.211       0.302\n",
      "date[T.2017-05-21]     -0.0350      0.134     -0.261      0.794      -0.298       0.228\n",
      "views                   0.0025      0.011      0.223      0.824      -0.020       0.025\n",
      "clicks                 -0.0313      0.026     -1.181      0.238      -0.083       0.021\n",
      "revenue                 0.0003      0.001      0.409      0.682      -0.001       0.002\n",
      "=======================================================================================\n"
     ]
    }
   ],
   "source": [
    "glm_binom = sm.formula.glm(\"id_check ~ country + groups + device + date + views + clicks + revenue \", data=data, family=sm.families.Binomial())\n",
    "res = glm_binom.fit()\n",
    "print(res.summary())\n"
   ]
  },
  {
   "cell_type": "markdown",
   "metadata": {},
   "source": [
    "### 3 some countries and device has significant restulst. Need to dive in. "
   ]
  },
  {
   "cell_type": "markdown",
   "metadata": {},
   "source": [
    "**3.1 For example, for device, check is every category in the device has the same amount of people having missing user_id, mixed assingement or multiuser/multidevice problem.**"
   ]
  },
  {
   "cell_type": "code",
   "execution_count": 337,
   "metadata": {},
   "outputs": [
    {
     "data": {
      "text/plain": [
       "device\n",
       "Android    0.018706\n",
       "Ios        0.013528\n",
       "Other      0.017384\n",
       "Web        0.022683\n",
       "Name: mix_flag, dtype: float64"
      ]
     },
     "execution_count": 337,
     "metadata": {},
     "output_type": "execute_result"
    }
   ],
   "source": [
    "data.groupby('device').mix_flag.mean() "
   ]
  },
  {
   "cell_type": "code",
   "execution_count": 338,
   "metadata": {},
   "outputs": [
    {
     "data": {
      "text/plain": [
       "device\n",
       "Android    0.013708\n",
       "Ios        0.008946\n",
       "Other      0.009752\n",
       "Web        0.013820\n",
       "Name: missing_flag, dtype: float64"
      ]
     },
     "execution_count": 338,
     "metadata": {},
     "output_type": "execute_result"
    }
   ],
   "source": [
    "data.groupby('device').missing_flag.mean()"
   ]
  },
  {
   "cell_type": "code",
   "execution_count": 339,
   "metadata": {},
   "outputs": [
    {
     "data": {
      "text/plain": [
       "device\n",
       "Android    0.052692\n",
       "Ios        0.059132\n",
       "Other      0.055544\n",
       "Web        0.058585\n",
       "Name: muldev_flag, dtype: float64"
      ]
     },
     "execution_count": 339,
     "metadata": {},
     "output_type": "execute_result"
    }
   ],
   "source": [
    "data.groupby('device').muldev_flag.mean()"
   ]
  },
  {
   "cell_type": "code",
   "execution_count": 340,
   "metadata": {},
   "outputs": [
    {
     "data": {
      "text/plain": [
       "device\n",
       "Android    0.031701\n",
       "Ios        0.040585\n",
       "Other      0.043884\n",
       "Web        0.029743\n",
       "Name: muluser_flag, dtype: float64"
      ]
     },
     "execution_count": 340,
     "metadata": {},
     "output_type": "execute_result"
    }
   ],
   "source": [
    "data.groupby('device').muluser_flag.mean()"
   ]
  },
  {
   "cell_type": "markdown",
   "metadata": {},
   "source": [
    "**3.2 Is there one type of  device has more problem than others. Is this expected? What do you think is it the issue?**\n"
   ]
  },
  {
   "cell_type": "markdown",
   "metadata": {},
   "source": [
    "## 4 blox of key metrics, views, clicks, ctr, problem"
   ]
  },
  {
   "cell_type": "markdown",
   "metadata": {},
   "source": [
    "**4.1 Plot the boxplot for views, clicks and CTR bewteen EACH problematic group and regular group. What is your finding?**"
   ]
  },
  {
   "cell_type": "code",
   "execution_count": 105,
   "metadata": {},
   "outputs": [],
   "source": [
    "import seaborn as sns\n",
    "sns.set(style=\"whitegrid\")"
   ]
  },
  {
   "cell_type": "code",
   "execution_count": 106,
   "metadata": {},
   "outputs": [
    {
     "data": {
      "text/plain": [
       "<matplotlib.axes._subplots.AxesSubplot at 0x1c12d3b0b8>"
      ]
     },
     "execution_count": 106,
     "metadata": {},
     "output_type": "execute_result"
    },
    {
     "data": {
      "image/png": "[encoded data removed]",
      "text/plain": [
       "<matplotlib.figure.Figure at 0x1c138a5978>"
      ]
     },
     "metadata": {},
     "output_type": "display_data"
    }
   ],
   "source": [
    "sns.boxplot(x='missing_flag', y='views', data=data)"
   ]
  },
  {
   "cell_type": "code",
   "execution_count": 107,
   "metadata": {},
   "outputs": [
    {
     "data": {
      "text/plain": [
       "<matplotlib.axes._subplots.AxesSubplot at 0x1c12ddb898>"
      ]
     },
     "execution_count": 107,
     "metadata": {},
     "output_type": "execute_result"
    },
    {
     "data": {
      "image/png": "[encoded data removed]",
      "text/plain": [
       "<matplotlib.figure.Figure at 0x1c12dd0d68>"
      ]
     },
     "metadata": {},
     "output_type": "display_data"
    }
   ],
   "source": [
    "sns.boxplot(x='missing_flag', y='clicks', data=data)"
   ]
  },
  {
   "cell_type": "code",
   "execution_count": 108,
   "metadata": {},
   "outputs": [
    {
     "data": {
      "text/plain": [
       "<matplotlib.axes._subplots.AxesSubplot at 0x1c1322e9b0>"
      ]
     },
     "execution_count": 108,
     "metadata": {},
     "output_type": "execute_result"
    },
    {
     "data": {
      "image/png": "[encoded data removed]",
      "text/plain": [
       "<matplotlib.figure.Figure at 0x1c12dccb00>"
      ]
     },
     "metadata": {},
     "output_type": "display_data"
    }
   ],
   "source": [
    "sns.boxplot(x='mix_flag', y='views', data=data)"
   ]
  },
  {
   "cell_type": "code",
   "execution_count": 109,
   "metadata": {},
   "outputs": [
    {
     "data": {
      "text/plain": [
       "<matplotlib.axes._subplots.AxesSubplot at 0x1c132c9550>"
      ]
     },
     "execution_count": 109,
     "metadata": {},
     "output_type": "execute_result"
    },
    {
     "data": {
      "image/png": "[encoded data removed]",
      "text/plain": [
       "<matplotlib.figure.Figure at 0x1c1326e400>"
      ]
     },
     "metadata": {},
     "output_type": "display_data"
    }
   ],
   "source": [
    "sns.boxplot(x='mix_flag', y='clicks', data=data)"
   ]
  },
  {
   "cell_type": "code",
   "execution_count": null,
   "metadata": {},
   "outputs": [],
   "source": []
  },
  {
   "cell_type": "markdown",
   "metadata": {},
   "source": [
    "## STEP 2  Before Experiment."
   ]
  },
  {
   "cell_type": "markdown",
   "metadata": {},
   "source": [
    "### 5. Split data into before experiment & after experiment "
   ]
  },
  {
   "cell_type": "markdown",
   "metadata": {},
   "source": [
    "**5.1 For simplicity , throw away problmatic records**"
   ]
  },
  {
   "cell_type": "code",
   "execution_count": 341,
   "metadata": {},
   "outputs": [
    {
     "data": {
      "text/plain": [
       "(21131, 16)"
      ]
     },
     "execution_count": 341,
     "metadata": {},
     "output_type": "execute_result"
    }
   ],
   "source": [
    "data=data[data.id_check == 0]\n",
    "data.shape"
   ]
  },
  {
   "cell_type": "markdown",
   "metadata": {},
   "source": [
    "**5.2 Sanity check before experiment**\n"
   ]
  },
  {
   "cell_type": "markdown",
   "metadata": {},
   "source": [
    "**5.2.1 Split the data into two different dataset: before_exp, start_exp.**\n",
    "    \n",
    "    First 3 days are before experiment, after 3 days experiment starts."
   ]
  },
  {
   "cell_type": "code",
   "execution_count": 342,
   "metadata": {},
   "outputs": [
    {
     "name": "stderr",
     "output_type": "stream",
     "text": [
      "/anaconda3/lib/python3.6/site-packages/ipykernel_launcher.py:1: SettingWithCopyWarning: \n",
      "A value is trying to be set on a copy of a slice from a DataFrame.\n",
      "Try using .loc[row_indexer,col_indexer] = value instead\n",
      "\n",
      "See the caveats in the documentation: http://pandas.pydata.org/pandas-docs/stable/indexing.html#indexing-view-versus-copy\n",
      "  \"\"\"Entry point for launching an IPython kernel.\n"
     ]
    }
   ],
   "source": [
    "data['date']=pd.to_datetime(data.date)"
   ]
  },
  {
   "cell_type": "code",
   "execution_count": 343,
   "metadata": {},
   "outputs": [],
   "source": [
    "data_before=data[data.date<data.date.min()+dt.timedelta(days=3)]"
   ]
  },
  {
   "cell_type": "code",
   "execution_count": 344,
   "metadata": {},
   "outputs": [],
   "source": [
    "data_after=data[data.date>=data.date.min()+dt.timedelta(days=3)]"
   ]
  },
  {
   "cell_type": "code",
   "execution_count": 345,
   "metadata": {},
   "outputs": [
    {
     "name": "stdout",
     "output_type": "stream",
     "text": [
      "(4487, 16) (16644, 16)\n"
     ]
    }
   ],
   "source": [
    "print (data_before.shape, data_after.shape)"
   ]
  },
  {
   "cell_type": "markdown",
   "metadata": {},
   "source": [
    "**5.2.2 compare aggregated CTR between test/control before experiment start**\n",
    "\n",
    "Question: What is the results ? Are there any difference between test/control before expeirment start?\n",
    "\n",
    "Tips: Use Chi square test from stats package for CTR test"
   ]
  },
  {
   "cell_type": "code",
   "execution_count": 346,
   "metadata": {},
   "outputs": [
    {
     "data": {
      "text/plain": [
       "groups\n",
       "control      2359\n",
       "treatment    2367\n",
       "Name: clicks, dtype: int64"
      ]
     },
     "execution_count": 346,
     "metadata": {},
     "output_type": "execute_result"
    }
   ],
   "source": [
    "data_before.groupby('groups').clicks.sum()"
   ]
  },
  {
   "cell_type": "code",
   "execution_count": null,
   "metadata": {},
   "outputs": [],
   "source": [
    "def ctr_test(data):\n",
    "    v1,v2=data.groupby('groups').views.sum()\n",
    "    c1,c2=data.groupby('groups').clicks.sum()\n",
    "    ctr=np.array([[v1,c1], [v2,c2]])\n",
    "    return stats.chi2_contingency(ctr)\n",
    "\n",
    "def ctr_test2(data):\n",
    "    v1,v2=data.groupby('groups').views.sum()\n",
    "    c1,c2=data.groupby('groups').clicks.sum()\n",
    "    ctr=pd.DataFrame([[v1,c1], [v2,c2]])\n",
    "    ctr.columns=['Total', 'Converted']\n",
    "    return ssp.proportions_ztest(count=ctr.Converted, nobs=ctr.Total, alternative='two-sided')"
   ]
  },
  {
   "cell_type": "code",
   "execution_count": 352,
   "metadata": {},
   "outputs": [
    {
     "data": {
      "text/plain": [
       "(0.0016228705329904823,\n",
       " 0.9678660181348819,\n",
       " 1,\n",
       " array([[11898.23510247,  2360.76489753],\n",
       "        [11920.76489753,  2365.23510247]]))"
      ]
     },
     "execution_count": 352,
     "metadata": {},
     "output_type": "execute_result"
    }
   ],
   "source": [
    "ctr_test(data_before)"
   ]
  },
  {
   "cell_type": "code",
   "execution_count": 353,
   "metadata": {},
   "outputs": [
    {
     "data": {
      "text/plain": [
       "(-0.06872804167929282, 0.9452060969410443)"
      ]
     },
     "execution_count": 353,
     "metadata": {},
     "output_type": "execute_result"
    }
   ],
   "source": [
    "ctr_test2(data_before)"
   ]
  },
  {
   "cell_type": "markdown",
   "metadata": {},
   "source": [
    "**5.2.3 Try to do this with device. (You can start with some visulization)**"
   ]
  },
  {
   "cell_type": "markdown",
   "metadata": {},
   "source": [
    "## Step 3 Experiment #"
   ]
  },
  {
   "cell_type": "markdown",
   "metadata": {},
   "source": [
    "### 1. Check if the CTR is significant between control & treatment groups. What's your results?  What do you think ?"
   ]
  },
  {
   "cell_type": "code",
   "execution_count": 354,
   "metadata": {},
   "outputs": [
    {
     "name": "stdout",
     "output_type": "stream",
     "text": [
      "(2.0442300725546674, 0.15278426495947445, 1, array([[49093.05464968, 10019.94535032],\n",
      "       [49563.94535032, 10116.05464968]]))\n"
     ]
    }
   ],
   "source": [
    "print (ctr_test(data_after))"
   ]
  },
  {
   "cell_type": "code",
   "execution_count": 355,
   "metadata": {},
   "outputs": [
    {
     "name": "stdout",
     "output_type": "stream",
     "text": [
      "(-1.7681001532523846, 0.07704416184171753)\n"
     ]
    }
   ],
   "source": [
    "print (ctr_test2(data_after))"
   ]
  },
  {
   "cell_type": "markdown",
   "metadata": {},
   "source": [
    "### 2. Break it down by device and check again.  What is your finding? What should you do at this point? "
   ]
  },
  {
   "cell_type": "code",
   "execution_count": 356,
   "metadata": {},
   "outputs": [
    {
     "name": "stdout",
     "output_type": "stream",
     "text": [
      "Ios (-3.58927966357975, 0.00033159296273061915)\n",
      "Other (-0.6381762010383913, 0.5233589874275538)\n",
      "Web (-0.7200834546061613, 0.47147361389087306)\n",
      "Android (0.8445144948193335, 0.398381967088125)\n"
     ]
    }
   ],
   "source": [
    "for col in data_after.device.unique():\n",
    "    data=data_after[data_after.device==col]\n",
    "    print (col, ctr_test2(data))"
   ]
  },
  {
   "cell_type": "code",
   "execution_count": 358,
   "metadata": {},
   "outputs": [
    {
     "name": "stdout",
     "output_type": "stream",
     "text": [
      "Ios 0.004063168009526296\n",
      "Other 0.614386753844246\n",
      "Web 0.567013192304382\n",
      "Android 0.500865578366753\n"
     ]
    }
   ],
   "source": [
    "for col in data_after.device.unique():\n",
    "    data=data_after[data_after.device==col]\n",
    "    print (col, ctr_test(data)[1])"
   ]
  },
  {
   "cell_type": "markdown",
   "metadata": {},
   "source": [
    "### 3. Check reveune"
   ]
  },
  {
   "cell_type": "markdown",
   "metadata": {},
   "source": [
    "**3.1 Graph the hisgram of revenue. what is your finding?**"
   ]
  },
  {
   "cell_type": "code",
   "execution_count": 134,
   "metadata": {},
   "outputs": [
    {
     "data": {
      "text/plain": [
       "<matplotlib.axes._subplots.AxesSubplot at 0x1c13189eb8>"
      ]
     },
     "execution_count": 134,
     "metadata": {},
     "output_type": "execute_result"
    },
    {
     "data": {
      "image/png": "[encoded data removed]",
      "text/plain": [
       "<matplotlib.figure.Figure at 0x1c19dac6d8>"
      ]
     },
     "metadata": {},
     "output_type": "display_data"
    }
   ],
   "source": [
    "data.revenue.hist()"
   ]
  },
  {
   "cell_type": "code",
   "execution_count": 135,
   "metadata": {},
   "outputs": [
    {
     "data": {
      "text/plain": [
       "<matplotlib.axes._subplots.AxesSubplot at 0x1c19dd6908>"
      ]
     },
     "execution_count": 135,
     "metadata": {},
     "output_type": "execute_result"
    },
    {
     "data": {
      "image/png": "[encoded data removed]",
      "text/plain": [
       "<matplotlib.figure.Figure at 0x1c19fb2198>"
      ]
     },
     "metadata": {},
     "output_type": "display_data"
    }
   ],
   "source": [
    "sns.boxplot(data.revenue)"
   ]
  },
  {
   "cell_type": "code",
   "execution_count": 136,
   "metadata": {},
   "outputs": [
    {
     "data": {
      "text/plain": [
       "0.8822720125786163"
      ]
     },
     "execution_count": 136,
     "metadata": {},
     "output_type": "execute_result"
    }
   ],
   "source": [
    "data[data.revenue==0].shape[0]/data.shape[0]"
   ]
  },
  {
   "cell_type": "markdown",
   "metadata": {},
   "source": [
    "**3.2. The data is highly skewed with majority of the value being 0.  Now plot with only revune is bigger than 0.  What is your finding?**"
   ]
  },
  {
   "cell_type": "code",
   "execution_count": 137,
   "metadata": {},
   "outputs": [
    {
     "data": {
      "text/plain": [
       "<matplotlib.axes._subplots.AxesSubplot at 0x1c1a01a128>"
      ]
     },
     "execution_count": 137,
     "metadata": {},
     "output_type": "execute_result"
    },
    {
     "data": {
      "image/png": "[encoded data removed]",
      "text/plain": [
       "<matplotlib.figure.Figure at 0x1c1a01f400>"
      ]
     },
     "metadata": {},
     "output_type": "display_data"
    }
   ],
   "source": [
    "data_wr=data[data.revenue>0]\n",
    "data_wr.revenue.hist()"
   ]
  },
  {
   "cell_type": "code",
   "execution_count": 138,
   "metadata": {},
   "outputs": [
    {
     "data": {
      "text/plain": [
       "<matplotlib.axes._subplots.AxesSubplot at 0x1c1a0682b0>"
      ]
     },
     "execution_count": 138,
     "metadata": {},
     "output_type": "execute_result"
    },
    {
     "data": {
      "image/png": "[encoded data removed]",
      "text/plain": [
       "<matplotlib.figure.Figure at 0x1c13be3358>"
      ]
     },
     "metadata": {},
     "output_type": "display_data"
    }
   ],
   "source": [
    "sns.boxplot(data_wr.revenue)"
   ]
  },
  {
   "cell_type": "markdown",
   "metadata": {},
   "source": [
    "**3.3 There are many outliers. Let's remove them by capping at the 99% percentile**"
   ]
  },
  {
   "cell_type": "code",
   "execution_count": 359,
   "metadata": {},
   "outputs": [],
   "source": [
    "data_c=data_wr[data_wr.revenue<data_wr.revenue.quantile(0.99)]"
   ]
  },
  {
   "cell_type": "markdown",
   "metadata": {},
   "source": [
    "3.3.1 Plot the histgrom after removing the outliers."
   ]
  },
  {
   "cell_type": "code",
   "execution_count": 142,
   "metadata": {},
   "outputs": [
    {
     "data": {
      "text/plain": [
       "<matplotlib.axes._subplots.AxesSubplot at 0x1c1a24e4e0>"
      ]
     },
     "execution_count": 142,
     "metadata": {},
     "output_type": "execute_result"
    },
    {
     "data": {
      "image/png": "[encoded data removed]",
      "text/plain": [
       "<matplotlib.figure.Figure at 0x1c1a3c76d8>"
      ]
     },
     "metadata": {},
     "output_type": "display_data"
    }
   ],
   "source": [
    "data_c.revenue.hist()"
   ]
  },
  {
   "cell_type": "markdown",
   "metadata": {},
   "source": [
    "3.3.2 Boxplot of the revenue after removing the outliers."
   ]
  },
  {
   "cell_type": "code",
   "execution_count": 280,
   "metadata": {},
   "outputs": [
    {
     "data": {
      "text/plain": [
       "<matplotlib.axes._subplots.AxesSubplot at 0x1c23822ba8>"
      ]
     },
     "execution_count": 280,
     "metadata": {},
     "output_type": "execute_result"
    },
    {
     "data": {
      "image/png": "[encoded data removed]",
      "text/plain": [
       "<matplotlib.figure.Figure at 0x1c236fa470>"
      ]
     },
     "metadata": {},
     "output_type": "display_data"
    }
   ],
   "source": [
    "sns.boxplot(data_c.revenue)"
   ]
  },
  {
   "cell_type": "markdown",
   "metadata": {},
   "source": [
    "**3.4 Calculate the mean and variance**"
   ]
  },
  {
   "cell_type": "code",
   "execution_count": 144,
   "metadata": {},
   "outputs": [],
   "source": [
    "Est_mean=data_c.revenue.mean()"
   ]
  },
  {
   "cell_type": "code",
   "execution_count": 145,
   "metadata": {},
   "outputs": [],
   "source": [
    "Est_var=data_c.revenue.var()/data_c.shape[0]"
   ]
  },
  {
   "cell_type": "code",
   "execution_count": 146,
   "metadata": {},
   "outputs": [
    {
     "name": "stdout",
     "output_type": "stream",
     "text": [
      "108.11315771573044 1.9804540681170475\n"
     ]
    }
   ],
   "source": [
    "print (Est_mean, Est_var)"
   ]
  },
  {
   "cell_type": "markdown",
   "metadata": {},
   "source": [
    "**3.5 Do a bootstrip sampling and calculate the mean and variance.**"
   ]
  },
  {
   "cell_type": "code",
   "execution_count": 148,
   "metadata": {},
   "outputs": [],
   "source": [
    "l = data_c.revenue\n",
    "ll = np.random.choice(l, size=l.shape, replace=False)"
   ]
  },
  {
   "cell_type": "code",
   "execution_count": 153,
   "metadata": {},
   "outputs": [],
   "source": [
    "Bt_mean=np.mean(ll)\n",
    "Bt_var=np.var(ll)/len(ll)"
   ]
  },
  {
   "cell_type": "code",
   "execution_count": 155,
   "metadata": {},
   "outputs": [
    {
     "name": "stdout",
     "output_type": "stream",
     "text": [
      "108.1131577157304 1.9771143479347244\n"
     ]
    }
   ],
   "source": [
    "print (Bt_mean, Bt_var)"
   ]
  },
  {
   "cell_type": "markdown",
   "metadata": {},
   "source": [
    "**3.6 Use t-test to compare revenue between control and treatment group. What is your finding?**\n",
    "\n",
    "      Tips: You can use stats.ttest_ind(x1, x2)"
   ]
  },
  {
   "cell_type": "code",
   "execution_count": 360,
   "metadata": {},
   "outputs": [],
   "source": [
    "bound=data.revenue.quantile(0.9)\n",
    "\n",
    "data_before['revenue_win'] = np.where(data_before.revenue>bound, bound, data_before.revenue)\n",
    "data_after['revenue_win']= np.where(data_after.revenue>bound, bound, data_after.revenue)"
   ]
  },
  {
   "cell_type": "code",
   "execution_count": 361,
   "metadata": {},
   "outputs": [],
   "source": [
    "x1=data_after[data_after.groups=='control'].revenue_win\n",
    "x2=data_after[data_after.groups=='treatment'].revenue_win"
   ]
  },
  {
   "cell_type": "code",
   "execution_count": 362,
   "metadata": {},
   "outputs": [
    {
     "data": {
      "text/plain": [
       "Ttest_indResult(statistic=1.2301708918994756, pvalue=0.2186505062596382)"
      ]
     },
     "execution_count": 362,
     "metadata": {},
     "output_type": "execute_result"
    }
   ],
   "source": [
    "stats.ttest_ind(x1,x2)"
   ]
  },
  {
   "cell_type": "markdown",
   "metadata": {},
   "source": [
    "**3.7. Diff-in-diff T-test**\n",
    "\n",
    "    For each user, conlculte the total revenue before and after the experment starts, then conculte the difference.\n",
    "    Use ttest to check if there's any difference. what is your finding?"
   ]
  },
  {
   "cell_type": "code",
   "execution_count": 363,
   "metadata": {},
   "outputs": [],
   "source": [
    "before=pd.DataFrame(data_before.groupby(['userid', 'country', 'device', 'groups']).revenue_win.sum())"
   ]
  },
  {
   "cell_type": "code",
   "execution_count": 364,
   "metadata": {},
   "outputs": [],
   "source": [
    "after=pd.DataFrame(data_after.groupby(['userid', 'country', 'device', 'groups']).revenue_win.sum())"
   ]
  },
  {
   "cell_type": "code",
   "execution_count": 372,
   "metadata": {},
   "outputs": [
    {
     "name": "stdout",
     "output_type": "stream",
     "text": [
      "(3661, 1) (6900, 1)\n"
     ]
    }
   ],
   "source": [
    "print (before.shape, after.shape)"
   ]
  },
  {
   "cell_type": "code",
   "execution_count": 365,
   "metadata": {},
   "outputs": [
    {
     "data": {
      "text/html": [
       "<div>\n",
       "<style scoped>\n",
       "    .dataframe tbody tr th:only-of-type {\n",
       "        vertical-align: middle;\n",
       "    }\n",
       "\n",
       "    .dataframe tbody tr th {\n",
       "        vertical-align: top;\n",
       "    }\n",
       "\n",
       "    .dataframe thead th {\n",
       "        text-align: right;\n",
       "    }\n",
       "</style>\n",
       "<table border=\"1\" class=\"dataframe\">\n",
       "  <thead>\n",
       "    <tr style=\"text-align: right;\">\n",
       "      <th></th>\n",
       "      <th></th>\n",
       "      <th></th>\n",
       "      <th></th>\n",
       "      <th>revenue_win</th>\n",
       "    </tr>\n",
       "    <tr>\n",
       "      <th>userid</th>\n",
       "      <th>country</th>\n",
       "      <th>device</th>\n",
       "      <th>groups</th>\n",
       "      <th></th>\n",
       "    </tr>\n",
       "  </thead>\n",
       "  <tbody>\n",
       "    <tr>\n",
       "      <th>1002.0</th>\n",
       "      <th>US</th>\n",
       "      <th>Android</th>\n",
       "      <th>treatment</th>\n",
       "      <td>80.728252</td>\n",
       "    </tr>\n",
       "    <tr>\n",
       "      <th>1003.0</th>\n",
       "      <th>CA</th>\n",
       "      <th>Other</th>\n",
       "      <th>control</th>\n",
       "      <td>0.000000</td>\n",
       "    </tr>\n",
       "    <tr>\n",
       "      <th>1008.0</th>\n",
       "      <th>US</th>\n",
       "      <th>Web</th>\n",
       "      <th>control</th>\n",
       "      <td>0.000000</td>\n",
       "    </tr>\n",
       "    <tr>\n",
       "      <th>1009.0</th>\n",
       "      <th>US</th>\n",
       "      <th>Web</th>\n",
       "      <th>control</th>\n",
       "      <td>0.000000</td>\n",
       "    </tr>\n",
       "    <tr>\n",
       "      <th>1011.0</th>\n",
       "      <th>CA</th>\n",
       "      <th>Web</th>\n",
       "      <th>control</th>\n",
       "      <td>0.000000</td>\n",
       "    </tr>\n",
       "  </tbody>\n",
       "</table>\n",
       "</div>"
      ],
      "text/plain": [
       "                                  revenue_win\n",
       "userid country device  groups                \n",
       "1002.0 US      Android treatment    80.728252\n",
       "1003.0 CA      Other   control       0.000000\n",
       "1008.0 US      Web     control       0.000000\n",
       "1009.0 US      Web     control       0.000000\n",
       "1011.0 CA      Web     control       0.000000"
      ]
     },
     "execution_count": 365,
     "metadata": {},
     "output_type": "execute_result"
    }
   ],
   "source": [
    "before.head()"
   ]
  },
  {
   "cell_type": "code",
   "execution_count": 377,
   "metadata": {},
   "outputs": [],
   "source": [
    "diff=pd.merge(before, after, left_index=True, right_index=True, how='outer')"
   ]
  },
  {
   "cell_type": "code",
   "execution_count": 379,
   "metadata": {},
   "outputs": [],
   "source": [
    "diff['diff_r']=diff.revenue_win_x-diff.revenue_win_y\n",
    "diff.reset_index(inplace=True)"
   ]
  },
  {
   "cell_type": "code",
   "execution_count": 380,
   "metadata": {},
   "outputs": [],
   "source": [
    "x1=diff[diff.groups=='control'].diff_r\n",
    "x2=diff[diff.groups=='treatment'].diff_r"
   ]
  },
  {
   "cell_type": "code",
   "execution_count": 381,
   "metadata": {},
   "outputs": [
    {
     "data": {
      "text/plain": [
       "Ttest_indResult(statistic=nan, pvalue=nan)"
      ]
     },
     "execution_count": 381,
     "metadata": {},
     "output_type": "execute_result"
    }
   ],
   "source": [
    "stats.ttest_ind(x1,x2)"
   ]
  },
  {
   "cell_type": "markdown",
   "metadata": {},
   "source": [
    "**3.8 Use regression to check the differnce**"
   ]
  },
  {
   "cell_type": "code",
   "execution_count": 382,
   "metadata": {},
   "outputs": [
    {
     "data": {
      "text/html": [
       "<div>\n",
       "<style scoped>\n",
       "    .dataframe tbody tr th:only-of-type {\n",
       "        vertical-align: middle;\n",
       "    }\n",
       "\n",
       "    .dataframe tbody tr th {\n",
       "        vertical-align: top;\n",
       "    }\n",
       "\n",
       "    .dataframe thead th {\n",
       "        text-align: right;\n",
       "    }\n",
       "</style>\n",
       "<table border=\"1\" class=\"dataframe\">\n",
       "  <thead>\n",
       "    <tr style=\"text-align: right;\">\n",
       "      <th></th>\n",
       "      <th>userid</th>\n",
       "      <th>country</th>\n",
       "      <th>device</th>\n",
       "      <th>groups</th>\n",
       "      <th>revenue_win_x</th>\n",
       "      <th>revenue_win_y</th>\n",
       "      <th>diff_r</th>\n",
       "    </tr>\n",
       "  </thead>\n",
       "  <tbody>\n",
       "    <tr>\n",
       "      <th>0</th>\n",
       "      <td>1000.0</td>\n",
       "      <td>US</td>\n",
       "      <td>Android</td>\n",
       "      <td>control</td>\n",
       "      <td>NaN</td>\n",
       "      <td>161.456504</td>\n",
       "      <td>NaN</td>\n",
       "    </tr>\n",
       "    <tr>\n",
       "      <th>1</th>\n",
       "      <td>1001.0</td>\n",
       "      <td>CA</td>\n",
       "      <td>Other</td>\n",
       "      <td>treatment</td>\n",
       "      <td>NaN</td>\n",
       "      <td>0.000000</td>\n",
       "      <td>NaN</td>\n",
       "    </tr>\n",
       "    <tr>\n",
       "      <th>2</th>\n",
       "      <td>1002.0</td>\n",
       "      <td>US</td>\n",
       "      <td>Android</td>\n",
       "      <td>treatment</td>\n",
       "      <td>80.728252</td>\n",
       "      <td>NaN</td>\n",
       "      <td>NaN</td>\n",
       "    </tr>\n",
       "    <tr>\n",
       "      <th>3</th>\n",
       "      <td>1003.0</td>\n",
       "      <td>CA</td>\n",
       "      <td>Other</td>\n",
       "      <td>control</td>\n",
       "      <td>0.000000</td>\n",
       "      <td>0.000000</td>\n",
       "      <td>0.0</td>\n",
       "    </tr>\n",
       "    <tr>\n",
       "      <th>4</th>\n",
       "      <td>1005.0</td>\n",
       "      <td>US</td>\n",
       "      <td>Android</td>\n",
       "      <td>treatment</td>\n",
       "      <td>NaN</td>\n",
       "      <td>161.456504</td>\n",
       "      <td>NaN</td>\n",
       "    </tr>\n",
       "  </tbody>\n",
       "</table>\n",
       "</div>"
      ],
      "text/plain": [
       "   userid country   device     groups  revenue_win_x  revenue_win_y  diff_r\n",
       "0  1000.0      US  Android    control            NaN     161.456504     NaN\n",
       "1  1001.0      CA    Other  treatment            NaN       0.000000     NaN\n",
       "2  1002.0      US  Android  treatment      80.728252            NaN     NaN\n",
       "3  1003.0      CA    Other    control       0.000000       0.000000     0.0\n",
       "4  1005.0      US  Android  treatment            NaN     161.456504     NaN"
      ]
     },
     "execution_count": 382,
     "metadata": {},
     "output_type": "execute_result"
    }
   ],
   "source": [
    "diff.head()"
   ]
  },
  {
   "cell_type": "code",
   "execution_count": 383,
   "metadata": {},
   "outputs": [],
   "source": [
    "diff.fillna(0, inplace=True)"
   ]
  },
  {
   "cell_type": "code",
   "execution_count": 384,
   "metadata": {},
   "outputs": [],
   "source": [
    "X=pd.get_dummies(diff[['groups', 'country', 'device', 'revenue_win_x']])\n",
    "y=diff.revenue_win_y"
   ]
  },
  {
   "cell_type": "code",
   "execution_count": 385,
   "metadata": {},
   "outputs": [],
   "source": [
    "#if one column is completely zero. It should be removed otherwise the GLM model will fail."
   ]
  },
  {
   "cell_type": "code",
   "execution_count": 386,
   "metadata": {},
   "outputs": [
    {
     "name": "stdout",
     "output_type": "stream",
     "text": [
      "                 Generalized Linear Model Regression Results                  \n",
      "==============================================================================\n",
      "Dep. Variable:          revenue_win_y   No. Observations:                 7219\n",
      "Model:                            GLM   Df Residuals:                     7210\n",
      "Model Family:                Gaussian   Df Model:                            8\n",
      "Link Function:               identity   Scale:              1633.1562443156845\n",
      "Method:                          IRLS   Log-Likelihood:                -36943.\n",
      "Date:                Sun, 10 Mar 2019   Deviance:                   1.1775e+07\n",
      "Time:                        16:30:57   Pearson chi2:                 1.18e+07\n",
      "No. Iterations:                     2                                         \n",
      "=======================================================================================\n",
      "                          coef    std err          z      P>|z|      [0.025      0.975]\n",
      "---------------------------------------------------------------------------------------\n",
      "Intercept              22.2316      1.387     16.032      0.000      19.514      24.949\n",
      "groups[T.treatment]    -1.2215      0.952     -1.284      0.199      -3.087       0.644\n",
      "country[T.CN]           0.3744      1.508      0.248      0.804      -2.581       3.329\n",
      "country[T.GB]           1.1196      1.505      0.744      0.457      -1.831       4.070\n",
      "country[T.US]          -1.1593      1.308     -0.887      0.375      -3.722       1.404\n",
      "device[T.Ios]          -0.8440      1.373     -0.615      0.539      -3.535       1.847\n",
      "device[T.Other]         0.1808      1.368      0.132      0.895      -2.501       2.863\n",
      "device[T.Web]          -2.3803      1.226     -1.941      0.052      -4.784       0.023\n",
      "revenue_win_x           0.0048      0.025      0.196      0.844      -0.043       0.053\n",
      "=======================================================================================\n"
     ]
    }
   ],
   "source": [
    "glm_binom = sm.formula.glm(\"revenue_win_y ~ groups + country + device + revenue_win_x\", data=diff)\n",
    "res = glm_binom.fit()\n",
    "print(res.summary())"
   ]
  },
  {
   "cell_type": "markdown",
   "metadata": {},
   "source": [
    "### 4 Cohort analysis"
   ]
  },
  {
   "cell_type": "markdown",
   "metadata": {},
   "source": [
    "**4.1 For change, over time change, 14 dates, 4th day start, line chart with CI by date**\n",
    "\n",
    "  Instruction: Create a dataframe with the following columns: date, CTR_treatment, CTR_control, Pvalue. Check how the   -value changes over time. How do you interprect it ?  "
   ]
  },
  {
   "cell_type": "code",
   "execution_count": 387,
   "metadata": {},
   "outputs": [],
   "source": [
    "d4id=data[data.date=='2017-05-11'].userid.unique()"
   ]
  },
  {
   "cell_type": "code",
   "execution_count": 388,
   "metadata": {},
   "outputs": [],
   "source": [
    "d4enroll=data[data.userid.isin(d4id)]"
   ]
  },
  {
   "cell_type": "code",
   "execution_count": 389,
   "metadata": {},
   "outputs": [
    {
     "name": "stdout",
     "output_type": "stream",
     "text": [
      "(5088, 16) (1480, 16)\n"
     ]
    }
   ],
   "source": [
    "print (data.shape, d4enroll.shape)"
   ]
  },
  {
   "cell_type": "code",
   "execution_count": 390,
   "metadata": {},
   "outputs": [],
   "source": [
    "cor_df=pd.DataFrame(columns=['date',  'pvalue'])\n",
    "\n",
    "for col in d4enroll.date.unique():\n",
    "    cor_df=cor_df.append({'date': col,  'pvalue':ctr_test2(d4enroll[d4enroll.date==col])[1] }, ignore_index=True)"
   ]
  },
  {
   "cell_type": "code",
   "execution_count": 391,
   "metadata": {},
   "outputs": [
    {
     "data": {
      "text/html": [
       "<div>\n",
       "<style scoped>\n",
       "    .dataframe tbody tr th:only-of-type {\n",
       "        vertical-align: middle;\n",
       "    }\n",
       "\n",
       "    .dataframe tbody tr th {\n",
       "        vertical-align: top;\n",
       "    }\n",
       "\n",
       "    .dataframe thead th {\n",
       "        text-align: right;\n",
       "    }\n",
       "</style>\n",
       "<table border=\"1\" class=\"dataframe\">\n",
       "  <thead>\n",
       "    <tr style=\"text-align: right;\">\n",
       "      <th></th>\n",
       "      <th>date</th>\n",
       "      <th>pvalue</th>\n",
       "    </tr>\n",
       "  </thead>\n",
       "  <tbody>\n",
       "    <tr>\n",
       "      <th>2</th>\n",
       "      <td>2017-05-11</td>\n",
       "      <td>0.709917</td>\n",
       "    </tr>\n",
       "    <tr>\n",
       "      <th>0</th>\n",
       "      <td>2017-05-12</td>\n",
       "      <td>0.159043</td>\n",
       "    </tr>\n",
       "    <tr>\n",
       "      <th>1</th>\n",
       "      <td>2017-05-13</td>\n",
       "      <td>0.919217</td>\n",
       "    </tr>\n",
       "    <tr>\n",
       "      <th>5</th>\n",
       "      <td>2017-05-14</td>\n",
       "      <td>0.302930</td>\n",
       "    </tr>\n",
       "    <tr>\n",
       "      <th>10</th>\n",
       "      <td>2017-05-15</td>\n",
       "      <td>0.674252</td>\n",
       "    </tr>\n",
       "    <tr>\n",
       "      <th>9</th>\n",
       "      <td>2017-05-16</td>\n",
       "      <td>0.269552</td>\n",
       "    </tr>\n",
       "    <tr>\n",
       "      <th>7</th>\n",
       "      <td>2017-05-17</td>\n",
       "      <td>0.731008</td>\n",
       "    </tr>\n",
       "    <tr>\n",
       "      <th>6</th>\n",
       "      <td>2017-05-18</td>\n",
       "      <td>0.204323</td>\n",
       "    </tr>\n",
       "    <tr>\n",
       "      <th>3</th>\n",
       "      <td>2017-05-19</td>\n",
       "      <td>0.344456</td>\n",
       "    </tr>\n",
       "    <tr>\n",
       "      <th>8</th>\n",
       "      <td>2017-05-20</td>\n",
       "      <td>0.772384</td>\n",
       "    </tr>\n",
       "    <tr>\n",
       "      <th>4</th>\n",
       "      <td>2017-05-21</td>\n",
       "      <td>0.312350</td>\n",
       "    </tr>\n",
       "  </tbody>\n",
       "</table>\n",
       "</div>"
      ],
      "text/plain": [
       "         date    pvalue\n",
       "2  2017-05-11  0.709917\n",
       "0  2017-05-12  0.159043\n",
       "1  2017-05-13  0.919217\n",
       "5  2017-05-14  0.302930\n",
       "10 2017-05-15  0.674252\n",
       "9  2017-05-16  0.269552\n",
       "7  2017-05-17  0.731008\n",
       "6  2017-05-18  0.204323\n",
       "3  2017-05-19  0.344456\n",
       "8  2017-05-20  0.772384\n",
       "4  2017-05-21  0.312350"
      ]
     },
     "execution_count": 391,
     "metadata": {},
     "output_type": "execute_result"
    }
   ],
   "source": [
    "cor_df.sort_values(by='date')"
   ]
  },
  {
   "cell_type": "code",
   "execution_count": null,
   "metadata": {},
   "outputs": [],
   "source": []
  },
  {
   "cell_type": "code",
   "execution_count": null,
   "metadata": {},
   "outputs": [],
   "source": []
  },
  {
   "cell_type": "code",
   "execution_count": null,
   "metadata": {},
   "outputs": [],
   "source": []
  },
  {
   "cell_type": "code",
   "execution_count": null,
   "metadata": {},
   "outputs": [],
   "source": []
  },
  {
   "cell_type": "code",
   "execution_count": null,
   "metadata": {},
   "outputs": [],
   "source": []
  },
  {
   "cell_type": "code",
   "execution_count": null,
   "metadata": {},
   "outputs": [],
   "source": []
  },
  {
   "cell_type": "code",
   "execution_count": null,
   "metadata": {},
   "outputs": [],
   "source": []
  },
  {
   "cell_type": "code",
   "execution_count": null,
   "metadata": {},
   "outputs": [],
   "source": []
  },
  {
   "cell_type": "code",
   "execution_count": null,
   "metadata": {},
   "outputs": [],
   "source": []
  },
  {
   "cell_type": "code",
   "execution_count": null,
   "metadata": {},
   "outputs": [],
   "source": []
  }
 ],
 "metadata": {
  "kernelspec": {
   "display_name": "Python 3",
   "language": "python",
   "name": "python3"
  },
  "language_info": {
   "codemirror_mode": {
    "name": "ipython",
    "version": 3
   },
   "file_extension": ".py",
   "mimetype": "text/x-python",
   "name": "python",
   "nbconvert_exporter": "python",
   "pygments_lexer": "ipython3",
   "version": "3.7.6"
  },
  "toc": {
   "base_numbering": 1,
   "nav_menu": {},
   "number_sections": true,
   "sideBar": true,
   "skip_h1_title": false,
   "title_cell": "Table of Contents",
   "title_sidebar": "Contents",
   "toc_cell": true,
   "toc_position": {},
   "toc_section_display": true,
   "toc_window_display": true
  }
 },
 "nbformat": 4,
 "nbformat_minor": 2
}
